{
 "cells": [
  {
   "cell_type": "markdown",
   "metadata": {},
   "source": [
    "Nombre: Cristian Usuga\n",
    "\n",
    "Ficha:1751400"
   ]
  },
  {
   "cell_type": "markdown",
   "metadata": {},
   "source": [
    "# Punto 3"
   ]
  },
  {
   "cell_type": "markdown",
   "metadata": {},
   "source": [
    ">Vamos a Generar una tabla que contenga las siguientes columnas:\n",
    "\n",
    "* Estación.\n",
    "* Año.\n",
    "* Mes.\n",
    "* Velocidad media del viento para ese mes y ese año."
   ]
  },
  {
   "cell_type": "code",
   "execution_count": 2,
   "metadata": {},
   "outputs": [],
   "source": [
    "import time\n",
    "import datetime\n",
    "#Funcion para leer y tranformar los \n",
    "def filetrans(file):\n",
    "    estacion = open(file, 'r').readlines()\n",
    "    transformacion = [row[0:-1]for row in estacion]\n",
    "    transformacion = [row.split(';')for row in transformacion]\n",
    "    transformacion = transformacion[1:]\n",
    "    return transformacion\n",
    "\n",
    "data = filetrans('files/06/Estacion1.csv')"
   ]
  },
  {
   "cell_type": "markdown",
   "metadata": {},
   "source": [
    "### Nombre de la estación"
   ]
  },
  {
   "cell_type": "code",
   "execution_count": null,
   "metadata": {},
   "outputs": [],
   "source": [
    "#Agregar columna 'Nombre de la estación'\n",
    "[[row[0].lower()]for row in data]\n",
    "data = [[str('Estacion1')] + row   for row in data]"
   ]
  },
  {
   "cell_type": "markdown",
   "metadata": {},
   "source": [
    "### Obtener --> Año"
   ]
  },
  {
   "cell_type": "code",
   "execution_count": null,
   "metadata": {},
   "outputs": [],
   "source": [
    "#cambiar formato de fecha\n",
    "def changeFormat(s):\n",
    "    return datetime.datetime.strptime(s, '%d/%m/%y').strftime('%Y/%m/%d')"
   ]
  },
  {
   "cell_type": "code",
   "execution_count": null,
   "metadata": {},
   "outputs": [],
   "source": [
    "#Retornar fecha en formato YY-MM-DD\n",
    "data = [[row[0],changeFormat(row[1]),row[2],row[3],row[4]]for row in data]"
   ]
  },
  {
   "cell_type": "code",
   "execution_count": null,
   "metadata": {},
   "outputs": [],
   "source": [
    "#Funcion para obtener AÑO\n",
    "def YEAR(s):\n",
    "    return datetime.datetime.strptime(s, '%Y/%m/%d').strftime('%Y')"
   ]
  },
  {
   "cell_type": "code",
   "execution_count": null,
   "metadata": {},
   "outputs": [],
   "source": [
    "#Capturar AÑO en una columna\n",
    "data = [[YEAR(row[1])] + row for row in data]"
   ]
  },
  {
   "cell_type": "code",
   "execution_count": null,
   "metadata": {},
   "outputs": [],
   "source": [
    "#ordenar datos para seguir trabajando\n",
    "data = [[row[1],row[2],row[0],row[3],row[4],row[5],]for row in data]"
   ]
  },
  {
   "cell_type": "markdown",
   "metadata": {},
   "source": [
    "### Obtener --> Mes\n"
   ]
  },
  {
   "cell_type": "code",
   "execution_count": null,
   "metadata": {},
   "outputs": [],
   "source": [
    "#Función para obtener MES\n",
    "def MONTH(s):\n",
    "    return datetime.datetime.strptime(s, '%Y/%m/%d').month"
   ]
  },
  {
   "cell_type": "code",
   "execution_count": null,
   "metadata": {},
   "outputs": [],
   "source": [
    "#Capturar MES en una columna\n",
    "data = [[MONTH(row[1])] + row for row in data]"
   ]
  },
  {
   "cell_type": "code",
   "execution_count": null,
   "metadata": {},
   "outputs": [],
   "source": [
    "#Ordenar datos para seguir trabajando\n",
    "data = [[row[1],row[2],row[3],row[0],row[4],row[5],row[6]]for row in data]"
   ]
  }
 ],
 "metadata": {
  "kernelspec": {
   "display_name": "Python 3",
   "language": "python",
   "name": "python3"
  },
  "language_info": {
   "codemirror_mode": {
    "name": "ipython",
    "version": 3
   },
   "file_extension": ".py",
   "mimetype": "text/x-python",
   "name": "python",
   "nbconvert_exporter": "python",
   "pygments_lexer": "ipython3",
   "version": "3.7.3"
  }
 },
 "nbformat": 4,
 "nbformat_minor": 2
}
