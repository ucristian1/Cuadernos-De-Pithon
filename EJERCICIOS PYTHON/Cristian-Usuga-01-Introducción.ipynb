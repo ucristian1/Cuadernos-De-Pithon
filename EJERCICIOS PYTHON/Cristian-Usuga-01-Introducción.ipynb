{
 "cells": [
  {
   "cell_type": "markdown",
   "metadata": {},
   "source": [
    "Nombre:Cristian Usuga Urrego\n",
    "\n",
    "Ficha:1751400"
   ]
  },
  {
   "cell_type": "markdown",
   "metadata": {},
   "source": [
    "##COMANDOS DE PYTHON"
   ]
  },
  {
   "cell_type": "code",
   "execution_count": 7,
   "metadata": {},
   "outputs": [
    {
     "name": "stdout",
     "output_type": "stream",
     "text": [
      " El volumen de la unidad C no tiene etiqueta.\n",
      " El número de serie del volumen es: 2A51-6A57\n",
      "\n",
      " Directorio de C:\\Users\\Cristian\\EJERCICIOS PYTHON\n",
      "\n",
      "22/11/2019  04:40 p. m.    <DIR>          .\n",
      "22/11/2019  04:40 p. m.    <DIR>          ..\n",
      "22/11/2019  04:37 p. m.    <DIR>          .ipynb_checkpoints\n",
      "22/11/2019  04:40 p. m.             3.515 Cristian-Usuga-01-Introducción.ipynb\n",
      "22/11/2019  03:16 p. m.            37.350 Cristian-Usuga-02-uso-interactivo.ipynb\n",
      "22/11/2019  03:25 p. m.            23.676 Cristian-Usuga-03-Estructura-de-control-de-flujo.ipynb\n",
      "22/11/2019  03:09 p. m.        18.752.977 Cristian-Usuga-04-Transformación-de-Datos.ipynb\n",
      "22/11/2019  03:43 p. m.            23.516 Cristian-Usuga-05-Archivos.ipynb\n",
      "22/11/2019  03:49 p. m.            67.434 Cristian-Usuga-06-Estructuras-de-Datos.ipynb\n",
      "22/11/2019  03:57 p. m.           108.814 Cristian-Usuga-07-Pandas-Básico.ipynb\n",
      "22/11/2019  04:04 p. m.            51.275 Cristian-Usuga-08-Pandas- Avanzado.ipynb\n",
      "22/11/2019  04:13 p. m.            11.677 Cristian-Usuga-09-Análisis-Exploratorio.ipynb\n",
      "08/11/2019  08:48 a. m.               883 Cristian-Usuga-Estaciones- Eolicas-checkpoint.ipynb\n",
      "22/11/2019  04:15 p. m.    <DIR>          files\n",
      "22/11/2019  04:38 p. m.                40 hola.py\n",
      "              11 archivos     19.081.157 bytes\n",
      "               4 dirs  349.776.924.672 bytes libres\n"
     ]
    }
   ],
   "source": [
    "%ls"
   ]
  },
  {
   "cell_type": "code",
   "execution_count": 8,
   "metadata": {},
   "outputs": [
    {
     "name": "stdout",
     "output_type": "stream",
     "text": [
      "Couldn't find program: 'sh'\n"
     ]
    }
   ],
   "source": [
    "%%sh\n",
    "ls"
   ]
  },
  {
   "cell_type": "code",
   "execution_count": 3,
   "metadata": {},
   "outputs": [
    {
     "name": "stdout",
     "output_type": "stream",
     "text": [
      "Writing hola.py\n"
     ]
    }
   ],
   "source": [
    "%%writefile hola.py\n",
    "print(\"hola mundo feliz desde Python\")"
   ]
  },
  {
   "cell_type": "code",
   "execution_count": 4,
   "metadata": {},
   "outputs": [
    {
     "name": "stdout",
     "output_type": "stream",
     "text": [
      "Couldn't find program: 'sh'\n"
     ]
    }
   ],
   "source": [
    "%%sh \n",
    "python hola.py"
   ]
  },
  {
   "cell_type": "code",
   "execution_count": 5,
   "metadata": {},
   "outputs": [
    {
     "name": "stdout",
     "output_type": "stream",
     "text": [
      "Couldn't find program: 'sh'\n"
     ]
    }
   ],
   "source": [
    "%%sh\n",
    "rm hola.py"
   ]
  },
  {
   "cell_type": "code",
   "execution_count": 6,
   "metadata": {},
   "outputs": [
    {
     "name": "stdout",
     "output_type": "stream",
     "text": [
      "IPython will make a temporary file named: C:\\Users\\Cristian\\AppData\\Local\\Temp\\ipython_edit_b1kthnko\\ipython_edit_sve_duj3.py\n"
     ]
    }
   ],
   "source": [
    "%edit"
   ]
  }
 ],
 "metadata": {
  "kernelspec": {
   "display_name": "Python 3",
   "language": "python",
   "name": "python3"
  },
  "language_info": {
   "codemirror_mode": {
    "name": "ipython",
    "version": 3
   },
   "file_extension": ".py",
   "mimetype": "text/x-python",
   "name": "python",
   "nbconvert_exporter": "python",
   "pygments_lexer": "ipython3",
   "version": "3.7.3"
  }
 },
 "nbformat": 4,
 "nbformat_minor": 2
}
